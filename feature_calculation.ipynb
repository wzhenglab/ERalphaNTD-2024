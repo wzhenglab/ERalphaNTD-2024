{
 "cells": [
  {
   "cell_type": "code",
   "execution_count": 2,
   "metadata": {},
   "outputs": [],
   "source": [
    "import numpy as np\n",
    "import matplotlib.pyplot as plt\n",
    "import os,sys\n",
    "import scipy.optimize as op\n",
    "import pandas as pd \n",
    "from tqdm import tqdm"
   ]
  },
  {
   "cell_type": "code",
   "execution_count": 3,
   "metadata": {},
   "outputs": [],
   "source": [
    "aa_param='''#AA     Mass    Charge  Sigma   Lambda    Lambda_CAL\n",
    "ALA     71.08   0.00    5.040   0.730   0.2743297969040348\n",
    "ARG     156.20  1.00    6.560   0.000   0.7307624767517166\n",
    "ASN     114.10  0.00    5.680   0.432   0.4255859009787713\n",
    "ASP     115.10  -1.00   5.580   0.378   0.0416040480605567\n",
    "CYS     103.10  0.00    5.480   0.595   0.5615435099141777\n",
    "GLN     128.10  0.00    6.020   0.514   0.3934318551056041\n",
    "GLU     129.10  -1.00   5.920   0.459   0.0006935460962935\n",
    "GLY     57.05   0.00    4.500   0.649   0.7058843733666401\n",
    "HIS     137.10  0.50    6.080   0.514   0.4663667290557992\n",
    "ILE     113.20  0.00    6.180   0.973   0.5423623610671892\n",
    "LEU     113.20  0.00    6.180   0.973   0.6440005007782226\n",
    "LYS     128.20  1.00    6.360   0.514   0.1790211738990582\n",
    "MET     131.20  0.00    6.180   0.838   0.5308481134337497\n",
    "PHE     147.20  0.00    6.360   1.000   0.8672358982062975\n",
    "PRO     97.12   0.00    5.560   1.000   0.3593126576364644\n",
    "SER     87.08   0.00    5.180   0.595   0.4625416811611541\n",
    "THR     101.10  0.00    5.620   0.676   0.3713162976273964\n",
    "TRP     186.20  0.00    6.780   0.946   0.9893764740371644\n",
    "TYR     163.20  0.00    6.460   0.865   0.9774611449343455\n",
    "VAL     99.07   0.00    5.860   0.892   0.2083769608174481'''"
   ]
  },
  {
   "cell_type": "code",
   "execution_count": 4,
   "metadata": {},
   "outputs": [],
   "source": [
    "aa={}\n",
    "for i in aa_param.split('\\n'):\n",
    "\tif i[0]!='#':\n",
    "\t\tname=i.rsplit()[0]\n",
    "\t\tother=np.array(i.rsplit()[1:],dtype=float)\n",
    "\t\taa[name]=other"
   ]
  },
  {
   "cell_type": "code",
   "execution_count": 5,
   "metadata": {},
   "outputs": [],
   "source": [
    "seq1to3={'R':'ARG','H':'HIS','K':'LYS','D':'ASP','E':'GLU',\n",
    "     'S':'SER','T':'THR','N':'ASN','Q':'GLN','C':'CYS',\n",
    "     'U':'SEC','G':'GLY','P':'PRO','A':'ALA','V':'VAL',\n",
    "     'I':'ILE','L':'LEU','M':'MET','F':'PHE','Y':'TYR',\n",
    "     'W':'TRP'}"
   ]
  },
  {
   "cell_type": "code",
   "execution_count": 6,
   "metadata": {},
   "outputs": [],
   "source": [
    "def seq2para(seq):\n",
    "\tmass=np.zeros(len(seq))\n",
    "\tcharge=np.zeros(len(seq))\n",
    "\tsigma=np.zeros(len(seq))\n",
    "\tl=np.zeros(len(seq))\n",
    "\tfor idx,i in enumerate(list(seq)):\n",
    "\t\ti3=seq1to3[i]\n",
    "\t\tif i3 in aa.keys():\n",
    "\t\t\tmass[idx]=aa[i3][0]\n",
    "\t\t\tcharge[idx]=aa[i3][1]\n",
    "\t\t\tsigma[idx]=aa[i3][2]\n",
    "\t\t\tl[idx]=aa[i3][3]\n",
    "\t\t\t\n",
    "\t\telse:\n",
    "\t\t\tprint(i3)\n",
    "\treturn mass,charge,sigma,l\n",
    "\n",
    "def fcr(charge):\n",
    "\tres=0.\n",
    "\tfor i in charge:\n",
    "\t\tif i != 0:\n",
    "\t\t\tres += 1\n",
    "\treturn res/len(charge)\n",
    "\n",
    "def shd(l):\n",
    "\tres=0.\n",
    "\tfor idx,i in enumerate(l):\n",
    "\t\t\tfor jdx,j in enumerate(l):\n",
    "\t\t\t\t\tif idx<jdx:\n",
    "\t\t\t\t\t\t\tres+=(i+j)*(jdx-idx)**(-1)\n",
    "\treturn res/len(l)"
   ]
  },
  {
   "cell_type": "code",
   "execution_count": 7,
   "metadata": {},
   "outputs": [
    {
     "name": "stderr",
     "output_type": "stream",
     "text": [
      "100%|██████████| 28058/28058 [01:24<00:00, 330.70it/s]\n"
     ]
    }
   ],
   "source": [
    "# Calculation for IDR dataset\n",
    "IDR_seqs = np.loadtxt('./seq_data/IDR_seq.txt', dtype='str')\n",
    "\n",
    "data_IDR = []\n",
    "for seq in tqdm(IDR_seqs):\n",
    "    mass, charge, sigma, l = seq2para(seq)\n",
    "    data_IDR.append([fcr(charge), shd(l)/10.23464191566815]) # the number is the pre-calculated largest shd in all 3 datasets\n",
    "\n",
    "# Save the result\n",
    "np.savetxt(\"./feature_data/IDR_data.txt\", data_IDR)\n",
    "df = pd.DataFrame(np.array(data_IDR))\n",
    "df.to_csv(\"./feature_data/IDR_data.csv\", header=['Fraction of Charged Amino Acids', 'Sequence Hydrophobic Patterning'], index=False)"
   ]
  },
  {
   "cell_type": "code",
   "execution_count": 8,
   "metadata": {},
   "outputs": [
    {
     "name": "stderr",
     "output_type": "stream",
     "text": [
      "100%|██████████| 2360/2360 [00:13<00:00, 175.65it/s]\n"
     ]
    }
   ],
   "source": [
    "# Calculation for folded protien dataset\n",
    "folded_seqs = np.loadtxt('./seq_data/folded_seq.txt', dtype='str')\n",
    "\n",
    "data_folded = []\n",
    "for seq in tqdm(folded_seqs):\n",
    "    mass, charge, sigma, l = seq2para(seq)\n",
    "    data_folded.append([fcr(charge), shd(l)/10.23464191566815]) # the number is the pre-calculated largest shd in all 3 datasets\n",
    "\n",
    "# Save the result\n",
    "np.savetxt(\"./feature_data/folded_data.txt\", data_folded)\n",
    "df = pd.DataFrame(np.array(data_folded))\n",
    "df.to_csv(\"./feature_data/folded_data.csv\", header=['Fraction of Charged Amino Acids', 'Sequence Hydrophobic Patterning'], index=False)"
   ]
  },
  {
   "cell_type": "code",
   "execution_count": 9,
   "metadata": {},
   "outputs": [
    {
     "name": "stderr",
     "output_type": "stream",
     "text": [
      "100%|██████████| 48/48 [00:00<00:00, 413.59it/s]\n"
     ]
    }
   ],
   "source": [
    "# Calculation for NTD dataset\n",
    "NTD_seqs = np.loadtxt('./seq_data/NTD_seq.txt', dtype='str')\n",
    "\n",
    "data_NTD = []\n",
    "for seq in tqdm(NTD_seqs):\n",
    "    mass, charge, sigma, l = seq2para(seq)\n",
    "    data_NTD.append([fcr(charge), shd(l)/10.23464191566815]) # the number is the pre-calculated largest shd in all 3 datasets\n",
    "\n",
    "# Save the result\n",
    "np.savetxt(\"./feature_data/NTD_data.txt\", data_NTD)\n",
    "df = pd.DataFrame(np.array(data_NTD))\n",
    "df.to_csv(\"./feature_data/NTD_data.csv\", header=['Fraction of Charged Amino Acids', 'Sequence Hydrophobic Patterning'], index=False)"
   ]
  },
  {
   "cell_type": "code",
   "execution_count": null,
   "metadata": {},
   "outputs": [],
   "source": []
  }
 ],
 "metadata": {
  "kernelspec": {
   "display_name": "py311",
   "language": "python",
   "name": "python3"
  },
  "language_info": {
   "codemirror_mode": {
    "name": "ipython",
    "version": 3
   },
   "file_extension": ".py",
   "mimetype": "text/x-python",
   "name": "python",
   "nbconvert_exporter": "python",
   "pygments_lexer": "ipython3",
   "version": "3.11.5"
  }
 },
 "nbformat": 4,
 "nbformat_minor": 2
}
